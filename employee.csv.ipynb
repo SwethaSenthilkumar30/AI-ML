{
 "cells": [
  {
   "cell_type": "code",
   "execution_count": 0,
   "metadata": {
    "application/vnd.databricks.v1+cell": {
     "cellMetadata": {
      "byteLimit": 2048000,
      "rowLimit": 10000
     },
     "inputWidgets": {},
     "nuid": "6b905639-a57c-4c7a-89e6-f35674c2b3a9",
     "showTitle": false,
     "tableResultSettingsMap": {},
     "title": ""
    }
   },
   "outputs": [
    {
     "output_type": "stream",
     "name": "stdout",
     "output_type": "stream",
     "text": [
      "+-----------+----------+---------+--------+------------+---------+----------+------+\n|EMPLOYEE_ID|FIRST_NAME|LAST_NAME|   EMAIL|PHONE_NUMBER|HIRE_DATE|    JOB_ID|SALARY|\n+-----------+----------+---------+--------+------------+---------+----------+------+\n|        198|    Donald| OConnell|DOCONNEL|650.507.9833|21-Jun-07|  SH_CLERK|  2600|\n|        199|   Douglas|    Grant|  DGRANT|650.507.9844|13-Jan-08|  SH_CLERK|  2600|\n|        200|  Jennifer|   Whalen| JWHALEN|515.123.4444|17-Sep-03|   AD_ASST|  4400|\n|        201|   Michael|Hartstein|MHARTSTE|515.123.5555|17-Feb-04|    MK_MAN| 13000|\n|        202|       Pat|      Fay|    PFAY|603.123.6666|17-Aug-05|    MK_REP|  6000|\n|        203|     Susan|   Mavris| SMAVRIS|515.123.7777|07-Jun-02|    HR_REP|  6500|\n|        204|   Hermann|     Baer|   HBAER|515.123.8888|07-Jun-02|    PR_REP| 10000|\n|        205|   Shelley|  Higgins|SHIGGINS|515.123.8080|07-Jun-02|    AC_MGR| 12008|\n|        206|   William|    Gietz|  WGIETZ|515.123.8181|07-Jun-02|AC_ACCOUNT|  8300|\n|        100|    Steven|     King|   SKING|515.123.4567|17-Jun-03|   AD_PRES| 24000|\n|        101|     Neena|  Kochhar|NKOCHHAR|515.123.4568|21-Sep-05|     AD_VP| 17000|\n|        102|       Lex|  De Haan| LDEHAAN|515.123.4569|13-Jan-01|     AD_VP| 17000|\n|        103| Alexander|   Hunold| AHUNOLD|590.423.4567|03-Jan-06|   IT_PROG|  9000|\n|        104|     Bruce|    Ernst|  BERNST|590.423.4568|21-May-07|   IT_PROG|  6000|\n|        105|     David|   Austin| DAUSTIN|590.423.4569|25-Jun-05|   IT_PROG|  4800|\n|        106|     Valli|Pataballa|VPATABAL|590.423.4560|05-Feb-06|   IT_PROG|  4800|\n|        107|     Diana|  Lorentz|DLORENTZ|590.423.5567|07-Feb-07|   IT_PROG|  4200|\n|        108|     Nancy|Greenberg|NGREENBE|515.124.4569|17-Aug-02|    FI_MGR| 12008|\n|        109|    Daniel|   Faviet| DFAVIET|515.124.4169|16-Aug-02|FI_ACCOUNT|  9000|\n|        110|      John|     Chen|   JCHEN|515.124.4269|28-Sep-05|FI_ACCOUNT|  8200|\n+-----------+----------+---------+--------+------------+---------+----------+------+\nonly showing top 20 rows\nroot\n |-- EMPLOYEE_ID: integer (nullable = true)\n |-- FIRST_NAME: string (nullable = true)\n |-- LAST_NAME: string (nullable = true)\n |-- EMAIL: string (nullable = true)\n |-- PHONE_NUMBER: string (nullable = true)\n |-- HIRE_DATE: string (nullable = true)\n |-- JOB_ID: string (nullable = true)\n |-- SALARY: integer (nullable = true)\n\n"
     ]
    }
   ],
   "source": [
    "from pyspark.sql import SparkSession\n",
    "spark = SparkSession.builder.appName(\"Spark DataFrames\").getOrCreate()\n",
    "df = spark.read.csv(\"/Volumes/sample1/default/test/employees1.csv\",inferSchema=True,header=True)\n",
    "df.show()\n",
    "df.printSchema()"
   ]
  }
 ],
 "metadata": {
  "application/vnd.databricks.v1+notebook": {
   "computePreferences": null,
   "dashboards": [],
   "environmentMetadata": {
    "base_environment": "",
    "environment_version": "2"
   },
   "inputWidgetPreferences": null,
   "language": "python",
   "notebookMetadata": {
    "pythonIndentUnit": 4
   },
   "notebookName": "employee.csv",
   "widgets": {}
  },
  "language_info": {
   "name": "python"
  }
 },
 "nbformat": 4,
 "nbformat_minor": 0
}